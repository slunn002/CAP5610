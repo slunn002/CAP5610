{
 "cells": [
  {
   "cell_type": "markdown",
   "metadata": {},
   "source": [
    "# CAP 5610 - Introduction to Machine Learning <br>Florida International University - Fall 2018\n",
    "## Problem Set #2\n",
    "### Instructions:\n",
    "\n",
    "Please answer the questions below. Copy this notebook and submit your answers under each problem, inserting cells as needed. You may use a combination of [python](http://jupyter-notebook.readthedocs.io/en/stable/examples/Notebook/Running%20Code.html), [markdown](http://jupyter-notebook.readthedocs.io/en/stable/examples/Notebook/Working%20With%20Markdown%20Cells.html), and [LaTex](http://data-blog.udacity.com/posts/2016/10/latex-primer/) to formulate your responses. Please add your initials to the file name prior to submission. For example, if your name is Juana Perez, you would use the following filename: problem_set_0_JP.ipynb. Prior to completing this assignment, you should brush up on [calculus](https://www.khanacademy.org/math/calculus-home) and [linear algebra](https://www.khanacademy.org/math/linear-algebra)."
   ]
  },
  {
   "cell_type": "markdown",
   "metadata": {},
   "source": [
    "#### Problem 1 . **[15 points] Linear Regression**\n",
    "\n",
    "Using the [diabetes dataset](http://scikit-learn.org/stable/modules/generated/sklearn.datasets.load_diabetes.html#sklearn.datasets.load_diabetes) available through SKLearn:\n",
    "\n",
    "a) Build a linear regression model in python, using the 2 features with the highest correlation to the output. You can read more about this dataset [here](http://scikit-learn.org/stable/datasets/index.html#diabetes-dataset). Plot the MSE vs iteration number, as well as the data and final linear surface (in 3D since there are two features). Hint: in order to plot functions in 3D, use [np.meshgrid](https://docs.scipy.org/doc/numpy-1.13.0/reference/generated/numpy.meshgrid.html).\n",
    "\n",
    "b) Once the linear regression is complete, implement locally weighted linear regression, and train the model with the following values of $\\tau: \\{0.01, 0.1, 1, 10\\}$. Again, plot the MSE, data, and final linear surface.\n"
   ]
  },
  {
   "cell_type": "markdown",
   "metadata": {},
   "source": [
    "#### Problem 2 . **[15 points] Logistic Regression**\n",
    "\n",
    "Show that for a linearly separable data set (i.e. the data can be partitioned by a linear function) the maximum likelihood solution for the logistic regression model is obtained by 1) finding a vector $\\mathbf{w}$ whose decision boundary $\\mathbf{w}^T\\mathbf{x}=0$ separates the classes and 2) taking the magnitude of $\\mathbf{w}$ to infinity."
   ]
  },
  {
   "cell_type": "markdown",
   "metadata": {},
   "source": [
    "#### Problem 3 . **[20 points] The exponential family**\n",
    "\n",
    "Recall that the poisson distribution is a discrete probability distribution that can model the number of times an event occurs in a given time or space interval.\n",
    "\n",
    "Suppose that an event can occur $1, 2, ... y$ times in an interval. The average number of events that occur in that interval are denoted $\\lambda$ (not to be confused with eigen values), which is called the event rate or rate parameter. Thus, for a poisson distribution, the probability of observing $y$ events in said interval is given by\n",
    "\n",
    "$$P(y;\\lambda) = e^{-\\lambda}\\frac{\\lambda^y}{y!}$$\n",
    "\n",
    "With that in mind, consider the following problem. Given bicycle bridge crossing data (i.e. counts of the number of bicycles that cross a given bridge), the task is to build a model that estimates the number of bicycle crossings in a day given the High Temp (°F), the Low Temp (°F) and the Precipitation for that day.\n",
    "\n",
    "\n",
    "a) Is the poisson distribution in the exponential family? If so, construct a GLM to solve this problem."
   ]
  },
  {
   "cell_type": "code",
   "execution_count": null,
   "metadata": {},
   "outputs": [],
   "source": []
  },
  {
   "cell_type": "markdown",
   "metadata": {},
   "source": [
    "b) What are the natural parameter of the distribution, the sufficient statistic, the log partition function, and $b(y)$."
   ]
  },
  {
   "cell_type": "code",
   "execution_count": null,
   "metadata": {},
   "outputs": [],
   "source": []
  },
  {
   "cell_type": "markdown",
   "metadata": {},
   "source": [
    "c) What is the canonical response function for this problem?"
   ]
  },
  {
   "cell_type": "code",
   "execution_count": null,
   "metadata": {},
   "outputs": [],
   "source": []
  },
  {
   "cell_type": "markdown",
   "metadata": {},
   "source": [
    "d) Update the course repo or download the dataset [directly](https://github.com/drmaj/CAP5610/tree/master/Datasets) and develop a GLM based on the poisson distribution in python using the NYC Bicycle Crossing Dataset. Create a model for each bridge, and a model for the total."
   ]
  },
  {
   "cell_type": "code",
   "execution_count": null,
   "metadata": {},
   "outputs": [],
   "source": []
  }
 ],
 "metadata": {
  "kernelspec": {
   "display_name": "Python 3",
   "language": "python",
   "name": "python3"
  },
  "language_info": {
   "codemirror_mode": {
    "name": "ipython",
    "version": 3
   },
   "file_extension": ".py",
   "mimetype": "text/x-python",
   "name": "python",
   "nbconvert_exporter": "python",
   "pygments_lexer": "ipython3",
   "version": "3.7.0"
  }
 },
 "nbformat": 4,
 "nbformat_minor": 2
}
